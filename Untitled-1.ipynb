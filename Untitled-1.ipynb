{
 "cells": [
  {
   "cell_type": "code",
   "execution_count": 20,
   "metadata": {},
   "outputs": [],
   "source": [
    "from os import path\n",
    "import pandas as pd\n",
    "from serpapi import GoogleSearch\n",
    "import datetime\n",
    "import streamlit as st\n",
    "import plotly.express as px\n",
    "import matplotlib.pyplot as plt\n",
    "\n",
    "\n",
    "# Ask about request needed\n",
    "words_toban = \"C,Go,JavaScript\"\n",
    "search_term = \"Data Analyst\"\n",
    "search_location = \"Geneva, Switzerland\"\n",
    "search_radius = 20\n",
    "results_number = 120\n",
    "api_key = open(\"../API keys/serpapi.txt\", \"r\").read()\n",
    "\n",
    "# Select only post of the day\n",
    "today_post = \"\"\n",
    "if today_post:\n",
    "    agreed = \"date_posted:today\"\n",
    "else:\n",
    "    agreed = \"\"\n",
    "\n",
    "# Select all techno to drop\n",
    "if words_toban == \"C,Go,JavaScript\" or words_toban == \"\":\n",
    "    banned_word = []\n",
    "else:\n",
    "    banned_word = words_toban.replace(\" \", \"\").split(\",\")"
   ]
  },
  {
   "cell_type": "code",
   "execution_count": 2,
   "metadata": {},
   "outputs": [
    {
     "name": "stdout",
     "output_type": "stream",
     "text": [
      "Getting SerpAPI data for page: 0\n",
      "Getting SerpAPI data for page: 10\n",
      "Getting SerpAPI data for page: 20\n",
      "Getting SerpAPI data for page: 30\n",
      "Getting SerpAPI data for page: 40\n",
      "Getting SerpAPI data for page: 50\n",
      "Getting SerpAPI data for page: 60\n",
      "Getting SerpAPI data for page: 70\n",
      "Getting SerpAPI data for page: 80\n",
      "Getting SerpAPI data for page: 90\n",
      "Getting SerpAPI data for page: 100\n",
      "Getting SerpAPI data for page: 110\n"
     ]
    }
   ],
   "source": [
    "# Scraping part\n",
    "for num in range(int(results_number / 10)):\n",
    "\n",
    "    start = num * 10\n",
    "    params = {\n",
    "        \"api_key\": api_key,\n",
    "        \"device\": \"desktop\",\n",
    "        \"engine\": \"google_jobs\",\n",
    "        \"google_domain\": \"google.com\",\n",
    "        \"q\": search_term,\n",
    "        #\"hl\": \"en\",\n",
    "        \"gl\": \"ch\",\n",
    "        \"lrad\": search_radius,\n",
    "        \"location\": search_location,\n",
    "        \"chips\": agreed,\n",
    "        # \"next_page_token\": start\n",
    "    }\n",
    "\n",
    "    search = GoogleSearch(params)\n",
    "    results = search.get_dict()\n",
    "\n",
    "    # check if the last search page (i.e., no results)\n",
    "    try:\n",
    "        if results[\"error\"] == \"Google hasn't returned any results for this query.\":\n",
    "            print(f\"{results[\"error\"]}\")\n",
    "            break\n",
    "    except KeyError:\n",
    "        print(f\"Getting SerpAPI data for page: {start}\")\n",
    "    else:\n",
    "        continue\n",
    "\n",
    "    # create dataframe of 10 pulled results\n",
    "    jobs = results[\"jobs_results\"]\n",
    "    jobs = pd.DataFrame(jobs)\n",
    "    jobs = pd.concat(\n",
    "        [pd.DataFrame(jobs), pd.json_normalize(jobs[\"detected_extensions\"])], axis=1\n",
    "    )\n",
    "    jobs[\"date_time\"] = datetime.datetime.now(datetime.UTC).strftime(\n",
    "        \"%d-%m-%Y %H:%M\"\n",
    "    )  # Request time add\n",
    "\n",
    "    # concat dataframe\n",
    "    if start == 0:\n",
    "        jobs_all = jobs\n",
    "    else:\n",
    "        jobs_all = pd.concat([jobs_all, jobs])\n",
    "\n",
    "    jobs_all[\"search_term\"] = search_term\n",
    "    jobs_all[\"search_location\"] = search_location"
   ]
  },
  {
   "cell_type": "code",
   "execution_count": 3,
   "metadata": {},
   "outputs": [],
   "source": [
    "# Drop the useless columns\n",
    "to_drop = [\n",
    "    \"detected_extensions\",\n",
    "    \"extensions\",\n",
    "    \"apply_options\",\n",
    "    \"job_id\",\n",
    "    \"thumbnail\",\n",
    "    \"search_term\",\n",
    "    \"search_location\",\n",
    "]\n",
    "\n",
    "# Looking if every col exist and delete each of these\n",
    "for col in to_drop:\n",
    "    if col in jobs_all.columns:\n",
    "        jobs_all.drop(columns=[col], inplace=True)\n",
    "\n",
    "# Drop the duplicates offers\n",
    "jobs_all.drop_duplicates(subset=\"description\", inplace=True)\n",
    "\n",
    "\n",
    "# Drop offers with specifics words (technology)\n",
    "def find_words(sentence, words):\n",
    "    \"\"\"\n",
    "    Input : sentence and list of words banned\n",
    "    Output : True or False check\n",
    "    Do : normalize text and compare each word of the sentence with the words banned\n",
    "    \"\"\"\n",
    "    for word in words:\n",
    "        if word.lower() in sentence.lower():\n",
    "            return False\n",
    "            break\n",
    "        else:\n",
    "            return True\n",
    "\n",
    "# Count of total rows (with banned_words filter)\n",
    "total_rows = jobs_all.shape[0]\n",
    "\n",
    "# Filter the offers with banned words, if banned_word list is not empty\n",
    "if banned_word != []:\n",
    "    jobs_all = jobs_all[jobs_all[\"description\"].apply(lambda a: find_words(a, banned_word))]\n",
    "\n",
    "# Count of filtred rows (without banned_words)\n",
    "rows_deleted = total_rows - jobs_all.shape[0]"
   ]
  },
  {
   "cell_type": "code",
   "execution_count": 27,
   "metadata": {},
   "outputs": [
    {
     "data": {
      "text/html": [
       "<div>\n",
       "<style scoped>\n",
       "    .dataframe tbody tr th:only-of-type {\n",
       "        vertical-align: middle;\n",
       "    }\n",
       "\n",
       "    .dataframe tbody tr th {\n",
       "        vertical-align: top;\n",
       "    }\n",
       "\n",
       "    .dataframe thead th {\n",
       "        text-align: right;\n",
       "    }\n",
       "</style>\n",
       "<table border=\"1\" class=\"dataframe\">\n",
       "  <thead>\n",
       "    <tr style=\"text-align: right;\">\n",
       "      <th></th>\n",
       "      <th>title</th>\n",
       "      <th>company_name</th>\n",
       "      <th>location</th>\n",
       "      <th>via</th>\n",
       "      <th>share_link</th>\n",
       "      <th>description</th>\n",
       "      <th>posted_at</th>\n",
       "      <th>schedule_type</th>\n",
       "      <th>date_time</th>\n",
       "    </tr>\n",
       "  </thead>\n",
       "  <tbody>\n",
       "    <tr>\n",
       "      <th>0</th>\n",
       "      <td>Securities Data Analyst</td>\n",
       "      <td>LHH</td>\n",
       "      <td>Genf</td>\n",
       "      <td>LHH</td>\n",
       "      <td>https://www.google.com/search?ibp=htl;jobs&amp;q=D...</td>\n",
       "      <td>We are looking for one of our client, a privat...</td>\n",
       "      <td>vor 5 Tagen</td>\n",
       "      <td>Vollzeit</td>\n",
       "      <td>27-08-2024 08:56</td>\n",
       "    </tr>\n",
       "    <tr>\n",
       "      <th>1</th>\n",
       "      <td>Data analyst (H/F)</td>\n",
       "      <td>ROLEX SA</td>\n",
       "      <td>Genf</td>\n",
       "      <td>Www.carrieres-Rolex.com</td>\n",
       "      <td>https://www.google.com/search?ibp=htl;jobs&amp;q=D...</td>\n",
       "      <td>Introduction\\n\\nPour notre division Système d’...</td>\n",
       "      <td>vor 15 Tagen</td>\n",
       "      <td>Vollzeit</td>\n",
       "      <td>27-08-2024 08:56</td>\n",
       "    </tr>\n",
       "  </tbody>\n",
       "</table>\n",
       "</div>"
      ],
      "text/plain": [
       "                     title company_name location                      via  \\\n",
       "0  Securities Data Analyst          LHH     Genf                      LHH   \n",
       "1       Data analyst (H/F)     ROLEX SA     Genf  Www.carrieres-Rolex.com   \n",
       "\n",
       "                                          share_link  \\\n",
       "0  https://www.google.com/search?ibp=htl;jobs&q=D...   \n",
       "1  https://www.google.com/search?ibp=htl;jobs&q=D...   \n",
       "\n",
       "                                         description     posted_at  \\\n",
       "0  We are looking for one of our client, a privat...   vor 5 Tagen   \n",
       "1  Introduction\\n\\nPour notre division Système d’...  vor 15 Tagen   \n",
       "\n",
       "  schedule_type         date_time  \n",
       "0      Vollzeit  27-08-2024 08:56  \n",
       "1      Vollzeit  27-08-2024 08:56  "
      ]
     },
     "execution_count": 27,
     "metadata": {},
     "output_type": "execute_result"
    }
   ],
   "source": [
    "jobs_all.head(2)"
   ]
  },
  {
   "cell_type": "code",
   "execution_count": 5,
   "metadata": {},
   "outputs": [
    {
     "name": "stdout",
     "output_type": "stream",
     "text": [
      "<class 'pandas.core.frame.DataFrame'>\n",
      "Index: 10 entries, 0 to 9\n",
      "Data columns (total 9 columns):\n",
      " #   Column         Non-Null Count  Dtype \n",
      "---  ------         --------------  ----- \n",
      " 0   title          10 non-null     object\n",
      " 1   company_name   10 non-null     object\n",
      " 2   location       9 non-null      object\n",
      " 3   via            10 non-null     object\n",
      " 4   share_link     10 non-null     object\n",
      " 5   description    10 non-null     object\n",
      " 6   posted_at      6 non-null      object\n",
      " 7   schedule_type  9 non-null      object\n",
      " 8   date_time      10 non-null     object\n",
      "dtypes: object(9)\n",
      "memory usage: 800.0+ bytes\n"
     ]
    }
   ],
   "source": [
    "jobs_all.info()"
   ]
  },
  {
   "cell_type": "code",
   "execution_count": 8,
   "metadata": {},
   "outputs": [
    {
     "data": {
      "text/plain": [
       "Index(['title', 'company_name', 'location', 'via', 'share_link', 'description',\n",
       "       'posted_at', 'schedule_type', 'date_time'],\n",
       "      dtype='object')"
      ]
     },
     "execution_count": 8,
     "metadata": {},
     "output_type": "execute_result"
    }
   ],
   "source": [
    "jobs_all.columns"
   ]
  },
  {
   "cell_type": "code",
   "execution_count": 26,
   "metadata": {},
   "outputs": [
    {
     "data": {
      "application/vnd.plotly.v1+json": {
       "config": {
        "plotlyServerURL": "https://plot.ly"
       },
       "data": [
        {
         "alignmentgroup": "True",
         "bingroup": "x",
         "hovertemplate": "via=LHH<br>company_name=%{x}<br>count=%{y}<extra></extra>",
         "legendgroup": "LHH",
         "marker": {
          "color": "#000001",
          "pattern": {
           "shape": ""
          }
         },
         "name": "LHH",
         "offsetgroup": "LHH",
         "orientation": "v",
         "showlegend": true,
         "type": "histogram",
         "x": [
          "LHH"
         ],
         "xaxis": "x",
         "yaxis": "y"
        },
        {
         "alignmentgroup": "True",
         "bingroup": "x",
         "hovertemplate": "via=Www.carrieres-Rolex.com<br>company_name=%{x}<br>count=%{y}<extra></extra>",
         "legendgroup": "Www.carrieres-Rolex.com",
         "marker": {
          "color": "#000002",
          "pattern": {
           "shape": ""
          }
         },
         "name": "Www.carrieres-Rolex.com",
         "offsetgroup": "Www.carrieres-Rolex.com",
         "orientation": "v",
         "showlegend": true,
         "type": "histogram",
         "x": [
          "ROLEX SA",
          "ROLEX SA"
         ],
         "xaxis": "x",
         "yaxis": "y"
        },
        {
         "alignmentgroup": "True",
         "bingroup": "x",
         "hovertemplate": "via=LinkedIn<br>company_name=%{x}<br>count=%{y}<extra></extra>",
         "legendgroup": "LinkedIn",
         "marker": {
          "color": "#000003",
          "pattern": {
           "shape": ""
          }
         },
         "name": "LinkedIn",
         "offsetgroup": "LinkedIn",
         "orientation": "v",
         "showlegend": true,
         "type": "histogram",
         "x": [
          "Technology Staffing Group",
          "Mercuria"
         ],
         "xaxis": "x",
         "yaxis": "y"
        },
        {
         "alignmentgroup": "True",
         "bingroup": "x",
         "hovertemplate": "via=IT Jobs Switzerland<br>company_name=%{x}<br>count=%{y}<extra></extra>",
         "legendgroup": "IT Jobs Switzerland",
         "marker": {
          "color": "#000004",
          "pattern": {
           "shape": ""
          }
         },
         "name": "IT Jobs Switzerland",
         "offsetgroup": "IT Jobs Switzerland",
         "orientation": "v",
         "showlegend": true,
         "type": "histogram",
         "x": [
          "International Air Transport Association (IATA)"
         ],
         "xaxis": "x",
         "yaxis": "y"
        },
        {
         "alignmentgroup": "True",
         "bingroup": "x",
         "hovertemplate": "via=Indeed Suisse<br>company_name=%{x}<br>count=%{y}<extra></extra>",
         "legendgroup": "Indeed Suisse",
         "marker": {
          "color": "#000005",
          "pattern": {
           "shape": ""
          }
         },
         "name": "Indeed Suisse",
         "offsetgroup": "Indeed Suisse",
         "orientation": "v",
         "showlegend": true,
         "type": "histogram",
         "x": [
          "Lynceus Partners"
         ],
         "xaxis": "x",
         "yaxis": "y"
        },
        {
         "alignmentgroup": "True",
         "bingroup": "x",
         "hovertemplate": "via=Academic Work<br>company_name=%{x}<br>count=%{y}<extra></extra>",
         "legendgroup": "Academic Work",
         "marker": {
          "color": "#000006",
          "pattern": {
           "shape": ""
          }
         },
         "name": "Academic Work",
         "offsetgroup": "Academic Work",
         "orientation": "v",
         "showlegend": true,
         "type": "histogram",
         "x": [
          "Academic Work"
         ],
         "xaxis": "x",
         "yaxis": "y"
        },
        {
         "alignmentgroup": "True",
         "bingroup": "x",
         "hovertemplate": "via=Michael Page Switzerland<br>company_name=%{x}<br>count=%{y}<extra></extra>",
         "legendgroup": "Michael Page Switzerland",
         "marker": {
          "color": "#000007",
          "pattern": {
           "shape": ""
          }
         },
         "name": "Michael Page Switzerland",
         "offsetgroup": "Michael Page Switzerland",
         "orientation": "v",
         "showlegend": true,
         "type": "histogram",
         "x": [
          "Michael Page"
         ],
         "xaxis": "x",
         "yaxis": "y"
        },
        {
         "alignmentgroup": "True",
         "bingroup": "x",
         "hovertemplate": "via=DataCareer<br>company_name=%{x}<br>count=%{y}<extra></extra>",
         "legendgroup": "DataCareer",
         "marker": {
          "color": "#000008",
          "pattern": {
           "shape": ""
          }
         },
         "name": "DataCareer",
         "offsetgroup": "DataCareer",
         "orientation": "v",
         "showlegend": true,
         "type": "histogram",
         "x": [
          "CA Indosuez Wealth (Group)"
         ],
         "xaxis": "x",
         "yaxis": "y"
        }
       ],
       "layout": {
        "barmode": "relative",
        "legend": {
         "title": {
          "text": "via"
         },
         "tracegroupgap": 0
        },
        "margin": {
         "t": 60
        },
        "template": {
         "data": {
          "candlestick": [
           {
            "decreasing": {
             "line": {
              "color": "#000033"
             }
            },
            "increasing": {
             "line": {
              "color": "#000032"
             }
            },
            "type": "candlestick"
           }
          ],
          "contour": [
           {
            "colorscale": [
             [
              0,
              "#000011"
             ],
             [
              0.1111111111111111,
              "#000012"
             ],
             [
              0.2222222222222222,
              "#000013"
             ],
             [
              0.3333333333333333,
              "#000014"
             ],
             [
              0.4444444444444444,
              "#000015"
             ],
             [
              0.5555555555555556,
              "#000016"
             ],
             [
              0.6666666666666666,
              "#000017"
             ],
             [
              0.7777777777777778,
              "#000018"
             ],
             [
              0.8888888888888888,
              "#000019"
             ],
             [
              1,
              "#000020"
             ]
            ],
            "type": "contour"
           }
          ],
          "contourcarpet": [
           {
            "colorscale": [
             [
              0,
              "#000011"
             ],
             [
              0.1111111111111111,
              "#000012"
             ],
             [
              0.2222222222222222,
              "#000013"
             ],
             [
              0.3333333333333333,
              "#000014"
             ],
             [
              0.4444444444444444,
              "#000015"
             ],
             [
              0.5555555555555556,
              "#000016"
             ],
             [
              0.6666666666666666,
              "#000017"
             ],
             [
              0.7777777777777778,
              "#000018"
             ],
             [
              0.8888888888888888,
              "#000019"
             ],
             [
              1,
              "#000020"
             ]
            ],
            "type": "contourcarpet"
           }
          ],
          "heatmap": [
           {
            "colorscale": [
             [
              0,
              "#000011"
             ],
             [
              0.1111111111111111,
              "#000012"
             ],
             [
              0.2222222222222222,
              "#000013"
             ],
             [
              0.3333333333333333,
              "#000014"
             ],
             [
              0.4444444444444444,
              "#000015"
             ],
             [
              0.5555555555555556,
              "#000016"
             ],
             [
              0.6666666666666666,
              "#000017"
             ],
             [
              0.7777777777777778,
              "#000018"
             ],
             [
              0.8888888888888888,
              "#000019"
             ],
             [
              1,
              "#000020"
             ]
            ],
            "type": "heatmap"
           }
          ],
          "histogram2d": [
           {
            "colorscale": [
             [
              0,
              "#000011"
             ],
             [
              0.1111111111111111,
              "#000012"
             ],
             [
              0.2222222222222222,
              "#000013"
             ],
             [
              0.3333333333333333,
              "#000014"
             ],
             [
              0.4444444444444444,
              "#000015"
             ],
             [
              0.5555555555555556,
              "#000016"
             ],
             [
              0.6666666666666666,
              "#000017"
             ],
             [
              0.7777777777777778,
              "#000018"
             ],
             [
              0.8888888888888888,
              "#000019"
             ],
             [
              1,
              "#000020"
             ]
            ],
            "type": "histogram2d"
           }
          ],
          "icicle": [
           {
            "textfont": {
             "color": "white"
            },
            "type": "icicle"
           }
          ],
          "sankey": [
           {
            "textfont": {
             "color": "#000036"
            },
            "type": "sankey"
           }
          ],
          "scatter": [
           {
            "marker": {
             "line": {
              "width": 0
             }
            },
            "type": "scatter"
           }
          ],
          "table": [
           {
            "cells": {
             "fill": {
              "color": "#000038"
             },
             "font": {
              "color": "#000037"
             },
             "line": {
              "color": "#000039"
             }
            },
            "header": {
             "fill": {
              "color": "#000040"
             },
             "font": {
              "color": "#000036"
             },
             "line": {
              "color": "#000039"
             }
            },
            "type": "table"
           }
          ],
          "waterfall": [
           {
            "connector": {
             "line": {
              "color": "#000036",
              "width": 2
             }
            },
            "decreasing": {
             "marker": {
              "color": "#000033"
             }
            },
            "increasing": {
             "marker": {
              "color": "#000032"
             }
            },
            "totals": {
             "marker": {
              "color": "#000034"
             }
            },
            "type": "waterfall"
           }
          ]
         },
         "layout": {
          "coloraxis": {
           "colorscale": [
            [
             0,
             "#000011"
            ],
            [
             0.1111111111111111,
             "#000012"
            ],
            [
             0.2222222222222222,
             "#000013"
            ],
            [
             0.3333333333333333,
             "#000014"
            ],
            [
             0.4444444444444444,
             "#000015"
            ],
            [
             0.5555555555555556,
             "#000016"
            ],
            [
             0.6666666666666666,
             "#000017"
            ],
            [
             0.7777777777777778,
             "#000018"
            ],
            [
             0.8888888888888888,
             "#000019"
            ],
            [
             1,
             "#000020"
            ]
           ]
          },
          "colorscale": {
           "diverging": [
            [
             0,
             "#000021"
            ],
            [
             0.1,
             "#000022"
            ],
            [
             0.2,
             "#000023"
            ],
            [
             0.3,
             "#000024"
            ],
            [
             0.4,
             "#000025"
            ],
            [
             0.5,
             "#000026"
            ],
            [
             0.6,
             "#000027"
            ],
            [
             0.7,
             "#000028"
            ],
            [
             0.8,
             "#000029"
            ],
            [
             0.9,
             "#000030"
            ],
            [
             1,
             "#000031"
            ]
           ],
           "sequential": [
            [
             0,
             "#000011"
            ],
            [
             0.1111111111111111,
             "#000012"
            ],
            [
             0.2222222222222222,
             "#000013"
            ],
            [
             0.3333333333333333,
             "#000014"
            ],
            [
             0.4444444444444444,
             "#000015"
            ],
            [
             0.5555555555555556,
             "#000016"
            ],
            [
             0.6666666666666666,
             "#000017"
            ],
            [
             0.7777777777777778,
             "#000018"
            ],
            [
             0.8888888888888888,
             "#000019"
            ],
            [
             1,
             "#000020"
            ]
           ],
           "sequentialminus": [
            [
             0,
             "#000011"
            ],
            [
             0.1111111111111111,
             "#000012"
            ],
            [
             0.2222222222222222,
             "#000013"
            ],
            [
             0.3333333333333333,
             "#000014"
            ],
            [
             0.4444444444444444,
             "#000015"
            ],
            [
             0.5555555555555556,
             "#000016"
            ],
            [
             0.6666666666666666,
             "#000017"
            ],
            [
             0.7777777777777778,
             "#000018"
            ],
            [
             0.8888888888888888,
             "#000019"
            ],
            [
             1,
             "#000020"
            ]
           ]
          },
          "colorway": [
           "#000001",
           "#000002",
           "#000003",
           "#000004",
           "#000005",
           "#000006",
           "#000007",
           "#000008",
           "#000009",
           "#000010"
          ]
         }
        },
        "xaxis": {
         "anchor": "y",
         "domain": [
          0,
          1
         ],
         "title": {
          "text": "company_name"
         }
        },
        "yaxis": {
         "anchor": "x",
         "domain": [
          0,
          1
         ],
         "title": {
          "text": "count"
         }
        }
       }
      }
     },
     "metadata": {},
     "output_type": "display_data"
    }
   ],
   "source": [
    "fig = px.histogram(jobs_all, x=\"company_name\", color=\"via\")\n",
    "st.plotly_chart(fig)"
   ]
  },
  {
   "cell_type": "code",
   "execution_count": 21,
   "metadata": {},
   "outputs": [],
   "source": [
    "for col in jobs_all.columns:\n",
    "    px.histogram(jobs_all[col])\n",
    "    plt.show()"
   ]
  }
 ],
 "metadata": {
  "kernelspec": {
   "display_name": "Python 3",
   "language": "python",
   "name": "python3"
  },
  "language_info": {
   "codemirror_mode": {
    "name": "ipython",
    "version": 3
   },
   "file_extension": ".py",
   "mimetype": "text/x-python",
   "name": "python",
   "nbconvert_exporter": "python",
   "pygments_lexer": "ipython3",
   "version": "3.12.4"
  }
 },
 "nbformat": 4,
 "nbformat_minor": 2
}
